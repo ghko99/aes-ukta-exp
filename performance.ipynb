{
 "cells": [
  {
   "cell_type": "code",
   "execution_count": 48,
   "id": "9ff8d745",
   "metadata": {},
   "outputs": [
    {
     "name": "stdout",
     "output_type": "stream",
     "text": [
      "Evaluating mode: baseline\n",
      "exp-grammar: 0.2422\n",
      "exp-vocab: 0.3309\n",
      "exp-sentence: 0.8631\n",
      "org-InterParagraph: 0.3293\n",
      "org-InParagraph: 0.8985\n",
      "org-consistency: 0.8559\n",
      "org-length: 0.6932\n",
      "cont-clarity: 0.4175\n",
      "cont-novelty: 0.1936\n",
      "cont-description: 0.4600\n",
      "average:  0.5284181590290099\n",
      "Evaluating mode: baseline + prompt\n",
      "exp-grammar: 0.2545\n",
      "exp-vocab: 0.3049\n",
      "exp-sentence: 0.9212\n",
      "org-InterParagraph: 0.3702\n",
      "org-InParagraph: 0.9283\n",
      "org-consistency: 0.8771\n",
      "org-length: 0.7564\n",
      "cont-clarity: 0.4007\n",
      "cont-novelty: 0.2114\n",
      "cont-description: 0.4739\n",
      "average:  0.5498666787099185\n",
      "Evaluating mode: gru_with_ln + prompt\n",
      "exp-grammar: 0.2738\n",
      "exp-vocab: 0.3591\n",
      "exp-sentence: 0.9217\n",
      "org-InterParagraph: 0.4258\n",
      "org-InParagraph: 0.9222\n",
      "org-consistency: 0.8835\n",
      "org-length: 0.7951\n",
      "cont-clarity: 0.4438\n",
      "cont-novelty: 0.3810\n",
      "cont-description: 0.5783\n",
      "average:  0.598436982002629\n",
      "Evaluating mode: gru_with_ln_ukta + prompt\n",
      "exp-grammar: 0.3083\n",
      "exp-vocab: 0.3781\n",
      "exp-sentence: 0.9203\n",
      "org-InterParagraph: 0.4801\n",
      "org-InParagraph: 0.9339\n",
      "org-consistency: 0.8899\n",
      "org-length: 0.8163\n",
      "cont-clarity: 0.5071\n",
      "cont-novelty: 0.4330\n",
      "cont-description: 0.6207\n",
      "average:  0.6287692078435501\n",
      "Evaluating mode: gru_with_ln_ukta_attention + prompt\n",
      "exp-grammar: 0.3265\n",
      "exp-vocab: 0.3696\n",
      "exp-sentence: 0.9257\n",
      "org-InterParagraph: 0.4871\n",
      "org-InParagraph: 0.9294\n",
      "org-consistency: 0.8955\n",
      "org-length: 0.8210\n",
      "cont-clarity: 0.4771\n",
      "cont-novelty: 0.3882\n",
      "cont-description: 0.6219\n",
      "average:  0.6241927247180334\n"
     ]
    }
   ],
   "source": [
    "import numpy as np\n",
    "from sklearn.metrics import cohen_kappa_score\n",
    "modes = [\"baseline\", \"gru_with_ln\", \"gru_with_ln_ukta\", \"gru_with_ln_ukta_attention\"]\n",
    "\n",
    "rubric_names = [\n",
    "    \"exp-grammar\",\n",
    "    \"exp-vocab\",\n",
    "    \"exp-sentence\",\n",
    "    \"org-InterParagraph\",\n",
    "    \"org-InParagraph\",\n",
    "    \"org-consistency\",\n",
    "    \"org-length\",\n",
    "    \"cont-clarity\",\n",
    "    \"cont-novelty\",\n",
    "    \"cont-prompt\",\n",
    "    \"cont-description\"\n",
    "]\n",
    "def compute_metrics(pred, real):\n",
    "    kappas = 0\n",
    "    for i in range(pred.shape[1]):\n",
    "        if i == 9:\n",
    "            continue\n",
    "        kappa = cohen_kappa_score(real[:, i], pred[:, i], weights='quadratic')\n",
    "        print(f\"{rubric_names[i]}: {kappa:.4f}\")\n",
    "        kappas += kappa\n",
    "    print(\"average: \" , kappas / (pred.shape[1] - 1))  # 평균 Kappa 점수 출력\n",
    "    return kappas / (pred.shape[1] - 1)\n",
    "\n",
    "\n",
    "for mode in modes:\n",
    "    if mode == \"baseline\":\n",
    "        print(f\"Evaluating mode: {mode}\")\n",
    "        is_topic_label = False\n",
    "        pred = np.load(f\"./{mode}/{'topic_' if is_topic_label else 'not_topic_'}y_pred_.npy\")\n",
    "        real = np.load(f\"./{mode}/{'topic_' if is_topic_label else 'not_topic_'}y_true_.npy\")\n",
    "        pred = np.rint(pred).astype(int)\n",
    "        real = np.rint(real).astype(int)\n",
    "        pred = np.clip(pred, 0, 3)\n",
    "        real = np.clip(real, 0, 3)\n",
    "        compute_metrics(pred, real)\n",
    "\n",
    "    print(f\"Evaluating mode: {mode} + prompt\")\n",
    "    is_topic_label = True\n",
    "    pred = np.load(f\"./{mode}/{'topic_' if is_topic_label else 'not_topic_'}y_pred_.npy\")\n",
    "    real = np.load(f\"./{mode}/{'topic_' if is_topic_label else 'not_topic_'}y_true_.npy\")\n",
    "    pred = np.rint(pred).astype(int)\n",
    "    real = np.rint(real).astype(int)\n",
    "    pred = np.clip(pred, 0, 3)\n",
    "    real = np.clip(real, 0, 3)\n",
    "\n",
    "    compute_metrics(pred, real)\n",
    "\n"
   ]
  },
  {
   "cell_type": "code",
   "execution_count": 35,
   "id": "72b6013c",
   "metadata": {},
   "outputs": [],
   "source": [
    "attentions = np.load('./gru_with_ln_ukta_attention/attention.npy')"
   ]
  },
  {
   "cell_type": "code",
   "execution_count": 39,
   "id": "8f5302ab",
   "metadata": {},
   "outputs": [
    {
     "data": {
      "text/plain": [
       "1.0"
      ]
     },
     "execution_count": 39,
     "metadata": {},
     "output_type": "execute_result"
    }
   ],
   "source": [
    "np.sum(attentions[0])"
   ]
  }
 ],
 "metadata": {
  "kernelspec": {
   "display_name": "rebellion",
   "language": "python",
   "name": "python3"
  },
  "language_info": {
   "codemirror_mode": {
    "name": "ipython",
    "version": 3
   },
   "file_extension": ".py",
   "mimetype": "text/x-python",
   "name": "python",
   "nbconvert_exporter": "python",
   "pygments_lexer": "ipython3",
   "version": "3.10.0"
  }
 },
 "nbformat": 4,
 "nbformat_minor": 5
}
